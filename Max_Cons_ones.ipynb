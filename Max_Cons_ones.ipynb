{
 "cells": [
  {
   "cell_type": "markdown",
   "metadata": {},
   "source": [
    "Given binary array, find count of maximum number of consecutive 1’s present in the array."
   ]
  },
  {
   "cell_type": "markdown",
   "metadata": {},
   "source": [
    "Input  : arr[] = {1, 1, 0, 0, 1, 1, 0, 1, 1, 1, }\n",
    "Output : 4\n",
    "\n",
    "Input  : arr[] = { 1, 0, 1, 0, 1,1,0,1,2,1,1,2,4}\n",
    "Output : 1"
   ]
  },
  {
   "cell_type": "code",
   "execution_count": 14,
   "metadata": {},
   "outputs": [
    {
     "name": "stdout",
     "output_type": "stream",
     "text": [
      "maximum number of consecutive 1’s present in the array is 3\n"
     ]
    }
   ],
   "source": [
    "def maxnoofones(arr,n):\n",
    "    # initialize the count\n",
    "    count=0\n",
    "    # intialize the result\n",
    "    result=0\n",
    "    \n",
    "    for i in range(0,n):\n",
    "        if (arr[i]==0):\n",
    "            count=0\n",
    "        else:\n",
    "            count+=1\n",
    "            result=max(result,count)\n",
    "    return result\n",
    "\n",
    "arr = [1, 1, 0, 0, 1, 1, 0, 1, 1, 1]\n",
    "n=len(arr)\n",
    "\n",
    "print(\"maximum number of consecutive 1’s present in the array is\",maxnoofones(arr,n))\n",
    "    \n"
   ]
  },
  {
   "cell_type": "code",
   "execution_count": null,
   "metadata": {},
   "outputs": [],
   "source": []
  }
 ],
 "metadata": {
  "kernelspec": {
   "display_name": "Python 3",
   "language": "python",
   "name": "python3"
  },
  "language_info": {
   "codemirror_mode": {
    "name": "ipython",
    "version": 3
   },
   "file_extension": ".py",
   "mimetype": "text/x-python",
   "name": "python",
   "nbconvert_exporter": "python",
   "pygments_lexer": "ipython3",
   "version": "3.8.5"
  }
 },
 "nbformat": 4,
 "nbformat_minor": 4
}
